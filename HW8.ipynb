{
 "cells": [
  {
   "cell_type": "code",
   "execution_count": 46,
   "id": "83ec3659",
   "metadata": {},
   "outputs": [],
   "source": [
    "import numpy as np\n",
    "url = 'https://archive.ics.uci.edu/ml/machine-learning-databases/iris/iris.data'\n",
    "iris = np.genfromtxt(url, delimiter=',', dtype='object')"
   ]
  },
  {
   "cell_type": "code",
   "execution_count": 47,
   "id": "335d42bf",
   "metadata": {},
   "outputs": [],
   "source": [
    "atribut_1 = np.genfromtxt(url, delimiter=',', dtype='float', usecols=[0])\n",
    "atribut_2 = np.genfromtxt(url, delimiter=',', dtype='float', usecols=[1])\n",
    "atribut_3 = np.genfromtxt(url, delimiter=',', dtype='float', usecols=[2])\n",
    "atribut_4 = np.genfromtxt(url, delimiter=',', dtype='float', usecols=[3])\n",
    "atribut_5 = np.genfromtxt(url, delimiter=',', dtype='str', usecols=[4])"
   ]
  },
  {
   "cell_type": "code",
   "execution_count": 48,
   "id": "2efc8474",
   "metadata": {},
   "outputs": [],
   "source": [
    "number_atributs = []\n",
    "for i in range(4):\n",
    "    number_atributs.append(np.genfromtxt(url, delimiter=',', dtype='float', usecols=[i]))"
   ]
  },
  {
   "cell_type": "code",
   "execution_count": 49,
   "id": "4876f8e6",
   "metadata": {},
   "outputs": [
    {
     "name": "stdout",
     "output_type": "stream",
     "text": [
      "Среднее для атрибута 1 =  5.843333333333334\n",
      "Минимум для атрибута 1 =  4.3\n",
      "Максимум для атрибута 1 =  7.9\n",
      "Медиана для атрибута 1 =  5.8\n",
      "Персентиль 0.25 для атрибута 1 =  5.1\n",
      "Персентиль 0.75 для атрибута 1 =  6.4\n",
      "\n",
      "\n",
      "Среднее для атрибута 2 =  3.0540000000000003\n",
      "Минимум для атрибута 2 =  2.0\n",
      "Максимум для атрибута 2 =  4.4\n",
      "Медиана для атрибута 2 =  3.0\n",
      "Персентиль 0.25 для атрибута 2 =  2.8\n",
      "Персентиль 0.75 для атрибута 2 =  3.3\n",
      "\n",
      "\n",
      "Среднее для атрибута 3 =  3.758666666666666\n",
      "Минимум для атрибута 3 =  1.0\n",
      "Максимум для атрибута 3 =  6.9\n",
      "Медиана для атрибута 3 =  4.35\n",
      "Персентиль 0.25 для атрибута 3 =  1.6\n",
      "Персентиль 0.75 для атрибута 3 =  5.1\n",
      "\n",
      "\n",
      "Среднее для атрибута 4 =  1.1986666666666668\n",
      "Минимум для атрибута 4 =  0.1\n",
      "Максимум для атрибута 4 =  2.5\n",
      "Медиана для атрибута 4 =  1.3\n",
      "Персентиль 0.25 для атрибута 4 =  0.3\n",
      "Персентиль 0.75 для атрибута 4 =  1.8\n",
      "\n",
      "\n"
     ]
    }
   ],
   "source": [
    "for i in range(4):\n",
    "    print(f'Среднее для атрибута {i+1} = ', np.mean(number_atributs[i]))\n",
    "    print(f'Минимум для атрибута {i+1} = ', np.min(number_atributs[i]))\n",
    "    print(f'Максимум для атрибута {i+1} = ', np.max(number_atributs[i]))\n",
    "    print(f'Медиана для атрибута {i+1} = ', np.median(number_atributs[i]))\n",
    "    print(f'Персентиль 0.25 для атрибута {i+1} = ', np.percentile(number_atributs[i], 25))\n",
    "    print(f'Персентиль 0.75 для атрибута {i+1} = ', np.percentile(number_atributs[i], 75))\n",
    "    print('\\n')"
   ]
  },
  {
   "cell_type": "code",
   "execution_count": 50,
   "id": "70cb7e3b",
   "metadata": {},
   "outputs": [],
   "source": [
    "import matplotlib.pyplot as plt"
   ]
  },
  {
   "cell_type": "code",
   "execution_count": 52,
   "id": "8fe580c8",
   "metadata": {},
   "outputs": [
    {
     "data": {
      "image/png": "[encoded data removed]",
      "text/plain": [
       "<Figure size 432x288 with 1 Axes>"
      ]
     },
     "metadata": {
      "needs_background": "light"
     },
     "output_type": "display_data"
    },
    {
     "data": {
      "image/png": "[encoded data removed]",
      "text/plain": [
       "<Figure size 432x288 with 1 Axes>"
      ]
     },
     "metadata": {
      "needs_background": "light"
     },
     "output_type": "display_data"
    },
    {
     "data": {
      "image/png": "[encoded data removed]",
      "text/plain": [
       "<Figure size 432x288 with 1 Axes>"
      ]
     },
     "metadata": {
      "needs_background": "light"
     },
     "output_type": "display_data"
    },
    {
     "data": {
      "image/png": "[encoded data removed]",
      "text/plain": [
       "<Figure size 432x288 with 1 Axes>"
      ]
     },
     "metadata": {
      "needs_background": "light"
     },
     "output_type": "display_data"
    }
   ],
   "source": [
    "for i in range(4):\n",
    "    plt.hist(number_atributs[i])\n",
    "    plt.title(f'Гистограмма для атрибута {i+1}')\n",
    "    plt.show()"
   ]
  },
  {
   "cell_type": "code",
   "execution_count": 53,
   "id": "7252d4ee",
   "metadata": {},
   "outputs": [
    {
     "data": {
      "text/plain": [
       "array(['Iris-setosa', 'Iris-versicolor', 'Iris-virginica'], dtype='<U15')"
      ]
     },
     "execution_count": 53,
     "metadata": {},
     "output_type": "execute_result"
    }
   ],
   "source": [
    "np.unique(atribut_5)"
   ]
  },
  {
   "cell_type": "code",
   "execution_count": 54,
   "id": "69187037",
   "metadata": {},
   "outputs": [],
   "source": [
    "new_1 = []\n",
    "\n",
    "for group_val in np.unique(atribut_5):\n",
    "    new_1.append(atribut_1[atribut_5==group_val].mean())"
   ]
  },
  {
   "cell_type": "code",
   "execution_count": 55,
   "id": "c95cf1e8",
   "metadata": {},
   "outputs": [
    {
     "data": {
      "text/plain": [
       "[5.006, 5.936, 6.587999999999998]"
      ]
     },
     "execution_count": 55,
     "metadata": {},
     "output_type": "execute_result"
    }
   ],
   "source": [
    "new_1"
   ]
  },
  {
   "cell_type": "code",
   "execution_count": 58,
   "id": "b741e555",
   "metadata": {},
   "outputs": [],
   "source": [
    "new_number_atributs = []"
   ]
  },
  {
   "cell_type": "code",
   "execution_count": 59,
   "id": "9efce736",
   "metadata": {},
   "outputs": [],
   "source": [
    "for i in range(len(number_atributs)):\n",
    "    for group_val in np.unique(atribut_5):\n",
    "        new_number_atributs.append([i, group_val, number_atributs[i][atribut_5==group_val]])"
   ]
  },
  {
   "cell_type": "code",
   "execution_count": 60,
   "id": "d3f00a5f",
   "metadata": {},
   "outputs": [
    {
     "data": {
      "text/plain": [
       "12"
      ]
     },
     "execution_count": 60,
     "metadata": {},
     "output_type": "execute_result"
    }
   ],
   "source": [
    "len(new_number_atributs)"
   ]
  },
  {
   "cell_type": "code",
   "execution_count": 62,
   "id": "d86de2b7",
   "metadata": {},
   "outputs": [
    {
     "name": "stdout",
     "output_type": "stream",
     "text": [
      "Для числового атрибута 1  группы Iris-setosa\n",
      "\n",
      "\n",
      "Среднее для нового атрибута 0 =  5.006\n",
      "Минимум для нового атрибута 0 =  4.3\n",
      "Максимум для нового атрибута 0 =  5.8\n",
      "Медиана для нового атрибута 0 =  5.0\n",
      "Персентиль 0.25 для нового атрибута 0 =  4.8\n",
      "Персентиль 0.75 для нового атрибута 0 =  5.2\n",
      "\n",
      "\n",
      "*** Гистограмма ***\n"
     ]
    },
    {
     "data": {
      "image/png": "[encoded data removed]",
      "text/plain": [
       "<Figure size 432x288 with 1 Axes>"
      ]
     },
     "metadata": {
      "needs_background": "light"
     },
     "output_type": "display_data"
    },
    {
     "name": "stdout",
     "output_type": "stream",
     "text": [
      "Для числового атрибута 1  группы Iris-versicolor\n",
      "\n",
      "\n",
      "Среднее для нового атрибута 1 =  5.936\n",
      "Минимум для нового атрибута 1 =  4.9\n",
      "Максимум для нового атрибута 1 =  7.0\n",
      "Медиана для нового атрибута 1 =  5.9\n",
      "Персентиль 0.25 для нового атрибута 1 =  5.6\n",
      "Персентиль 0.75 для нового атрибута 1 =  6.3\n",
      "\n",
      "\n",
      "*** Гистограмма ***\n"
     ]
    },
    {
     "data": {
      "image/png": "[encoded data removed]",
      "text/plain": [
       "<Figure size 432x288 with 1 Axes>"
      ]
     },
     "metadata": {
      "needs_background": "light"
     },
     "output_type": "display_data"
    },
    {
     "name": "stdout",
     "output_type": "stream",
     "text": [
      "Для числового атрибута 1  группы Iris-virginica\n",
      "\n",
      "\n",
      "Среднее для нового атрибута 2 =  6.587999999999998\n",
      "Минимум для нового атрибута 2 =  4.9\n",
      "Максимум для нового атрибута 2 =  7.9\n",
      "Медиана для нового атрибута 2 =  6.5\n",
      "Персентиль 0.25 для нового атрибута 2 =  6.225\n",
      "Персентиль 0.75 для нового атрибута 2 =  6.9\n",
      "\n",
      "\n",
      "*** Гистограмма ***\n"
     ]
    },
    {
     "data": {
      "image/png": "[encoded data removed]",
      "text/plain": [
       "<Figure size 432x288 with 1 Axes>"
      ]
     },
     "metadata": {
      "needs_background": "light"
     },
     "output_type": "display_data"
    },
    {
     "name": "stdout",
     "output_type": "stream",
     "text": [
      "Для числового атрибута 2  группы Iris-setosa\n",
      "\n",
      "\n",
      "Среднее для нового атрибута 3 =  3.418\n",
      "Минимум для нового атрибута 3 =  2.3\n",
      "Максимум для нового атрибута 3 =  4.4\n",
      "Медиана для нового атрибута 3 =  3.4\n",
      "Персентиль 0.25 для нового атрибута 3 =  3.125\n",
      "Персентиль 0.75 для нового атрибута 3 =  3.6750000000000003\n",
      "\n",
      "\n",
      "*** Гистограмма ***\n"
     ]
    },
    {
     "data": {
      "image/png": "[encoded data removed]",
      "text/plain": [
       "<Figure size 432x288 with 1 Axes>"
      ]
     },
     "metadata": {
      "needs_background": "light"
     },
     "output_type": "display_data"
    },
    {
     "name": "stdout",
     "output_type": "stream",
     "text": [
      "Для числового атрибута 2  группы Iris-versicolor\n",
      "\n",
      "\n",
      "Среднее для нового атрибута 4 =  2.7700000000000005\n",
      "Минимум для нового атрибута 4 =  2.0\n",
      "Максимум для нового атрибута 4 =  3.4\n",
      "Медиана для нового атрибута 4 =  2.8\n",
      "Персентиль 0.25 для нового атрибута 4 =  2.525\n",
      "Персентиль 0.75 для нового атрибута 4 =  3.0\n",
      "\n",
      "\n",
      "*** Гистограмма ***\n"
     ]
    },
    {
     "data": {
      "image/png": "[encoded data removed]",
      "text/plain": [
       "<Figure size 432x288 with 1 Axes>"
      ]
     },
     "metadata": {
      "needs_background": "light"
     },
     "output_type": "display_data"
    },
    {
     "name": "stdout",
     "output_type": "stream",
     "text": [
      "Для числового атрибута 2  группы Iris-virginica\n",
      "\n",
      "\n",
      "Среднее для нового атрибута 5 =  2.974\n",
      "Минимум для нового атрибута 5 =  2.2\n",
      "Максимум для нового атрибута 5 =  3.8\n",
      "Медиана для нового атрибута 5 =  3.0\n",
      "Персентиль 0.25 для нового атрибута 5 =  2.8\n",
      "Персентиль 0.75 для нового атрибута 5 =  3.1750000000000003\n",
      "\n",
      "\n",
      "*** Гистограмма ***\n"
     ]
    },
    {
     "data": {
      "image/png": "[encoded data removed]",
      "text/plain": [
       "<Figure size 432x288 with 1 Axes>"
      ]
     },
     "metadata": {
      "needs_background": "light"
     },
     "output_type": "display_data"
    },
    {
     "name": "stdout",
     "output_type": "stream",
     "text": [
      "Для числового атрибута 3  группы Iris-setosa\n",
      "\n",
      "\n",
      "Среднее для нового атрибута 6 =  1.464\n",
      "Минимум для нового атрибута 6 =  1.0\n",
      "Максимум для нового атрибута 6 =  1.9\n",
      "Медиана для нового атрибута 6 =  1.5\n",
      "Персентиль 0.25 для нового атрибута 6 =  1.4\n",
      "Персентиль 0.75 для нового атрибута 6 =  1.5750000000000002\n",
      "\n",
      "\n",
      "*** Гистограмма ***\n"
     ]
    },
    {
     "data": {
      "image/png": "[encoded data removed]",
      "text/plain": [
       "<Figure size 432x288 with 1 Axes>"
      ]
     },
     "metadata": {
      "needs_background": "light"
     },
     "output_type": "display_data"
    },
    {
     "name": "stdout",
     "output_type": "stream",
     "text": [
      "Для числового атрибута 3  группы Iris-versicolor\n",
      "\n",
      "\n",
      "Среднее для нового атрибута 7 =  4.26\n",
      "Минимум для нового атрибута 7 =  3.0\n",
      "Максимум для нового атрибута 7 =  5.1\n",
      "Медиана для нового атрибута 7 =  4.35\n",
      "Персентиль 0.25 для нового атрибута 7 =  4.0\n",
      "Персентиль 0.75 для нового атрибута 7 =  4.6\n",
      "\n",
      "\n",
      "*** Гистограмма ***\n"
     ]
    },
    {
     "data": {
      "image/png": "[encoded data removed]",
      "text/plain": [
       "<Figure size 432x288 with 1 Axes>"
      ]
     },
     "metadata": {
      "needs_background": "light"
     },
     "output_type": "display_data"
    },
    {
     "name": "stdout",
     "output_type": "stream",
     "text": [
      "Для числового атрибута 3  группы Iris-virginica\n",
      "\n",
      "\n",
      "Среднее для нового атрибута 8 =  5.5520000000000005\n",
      "Минимум для нового атрибута 8 =  4.5\n",
      "Максимум для нового атрибута 8 =  6.9\n",
      "Медиана для нового атрибута 8 =  5.55\n",
      "Персентиль 0.25 для нового атрибута 8 =  5.1\n",
      "Персентиль 0.75 для нового атрибута 8 =  5.875\n",
      "\n",
      "\n",
      "*** Гистограмма ***\n"
     ]
    },
    {
     "data": {
      "image/png": "[encoded data removed]",
      "text/plain": [
       "<Figure size 432x288 with 1 Axes>"
      ]
     },
     "metadata": {
      "needs_background": "light"
     },
     "output_type": "display_data"
    },
    {
     "name": "stdout",
     "output_type": "stream",
     "text": [
      "Для числового атрибута 4  группы Iris-setosa\n",
      "\n",
      "\n",
      "Среднее для нового атрибута 9 =  0.244\n",
      "Минимум для нового атрибута 9 =  0.1\n",
      "Максимум для нового атрибута 9 =  0.6\n",
      "Медиана для нового атрибута 9 =  0.2\n",
      "Персентиль 0.25 для нового атрибута 9 =  0.2\n",
      "Персентиль 0.75 для нового атрибута 9 =  0.3\n",
      "\n",
      "\n",
      "*** Гистограмма ***\n"
     ]
    },
    {
     "data": {
      "image/png": "[encoded data removed]",
      "text/plain": [
       "<Figure size 432x288 with 1 Axes>"
      ]
     },
     "metadata": {
      "needs_background": "light"
     },
     "output_type": "display_data"
    },
    {
     "name": "stdout",
     "output_type": "stream",
     "text": [
      "Для числового атрибута 4  группы Iris-versicolor\n",
      "\n",
      "\n",
      "Среднее для нового атрибута 10 =  1.3259999999999998\n",
      "Минимум для нового атрибута 10 =  1.0\n",
      "Максимум для нового атрибута 10 =  1.8\n",
      "Медиана для нового атрибута 10 =  1.3\n",
      "Персентиль 0.25 для нового атрибута 10 =  1.2\n",
      "Персентиль 0.75 для нового атрибута 10 =  1.5\n",
      "\n",
      "\n",
      "*** Гистограмма ***\n"
     ]
    },
    {
     "data": {
      "image/png": "[encoded data removed]",
      "text/plain": [
       "<Figure size 432x288 with 1 Axes>"
      ]
     },
     "metadata": {
      "needs_background": "light"
     },
     "output_type": "display_data"
    },
    {
     "name": "stdout",
     "output_type": "stream",
     "text": [
      "Для числового атрибута 4  группы Iris-virginica\n",
      "\n",
      "\n",
      "Среднее для нового атрибута 11 =  2.0260000000000002\n",
      "Минимум для нового атрибута 11 =  1.4\n",
      "Максимум для нового атрибута 11 =  2.5\n",
      "Медиана для нового атрибута 11 =  2.0\n",
      "Персентиль 0.25 для нового атрибута 11 =  1.8\n",
      "Персентиль 0.75 для нового атрибута 11 =  2.3\n",
      "\n",
      "\n",
      "*** Гистограмма ***\n"
     ]
    },
    {
     "data": {
      "image/png": "[encoded data removed]",
      "text/plain": [
       "<Figure size 432x288 with 1 Axes>"
      ]
     },
     "metadata": {
      "needs_background": "light"
     },
     "output_type": "display_data"
    }
   ],
   "source": [
    "for i in range(len(new_number_atributs)):\n",
    "    print(f'Для числового атрибута {new_number_atributs[i][0]+1}  группы {new_number_atributs[i][1]}')\n",
    "    print('\\n')\n",
    "    print(f'Среднее для нового атрибута {i} = ', np.mean(new_number_atributs[i][2]))\n",
    "    print(f'Минимум для нового атрибута {i} = ', np.min(new_number_atributs[i][2]))\n",
    "    print(f'Максимум для нового атрибута {i} = ', np.max(new_number_atributs[i][2]))\n",
    "    print(f'Медиана для нового атрибута {i} = ', np.median(new_number_atributs[i][2]))\n",
    "    print(f'Персентиль 0.25 для нового атрибута {i} = ', np.percentile(new_number_atributs[i][2], 25))\n",
    "    print(f'Персентиль 0.75 для нового атрибута {i} = ', np.percentile(new_number_atributs[i][2], 75))\n",
    "    print('\\n')\n",
    "    print('*** Гистограмма ***')\n",
    "    plt.hist(new_number_atributs[i][2])\n",
    "    plt.title(f'Гистограмма для нового атрибута {i+1}')\n",
    "    plt.show()"
   ]
  },
  {
   "cell_type": "code",
   "execution_count": null,
   "id": "b592f54f",
   "metadata": {},
   "outputs": [],
   "source": []
  }
 ],
 "metadata": {
  "kernelspec": {
   "display_name": "Python 3 (ipykernel)",
   "language": "python",
   "name": "python3"
  },
  "language_info": {
   "codemirror_mode": {
    "name": "ipython",
    "version": 3
   },
   "file_extension": ".py",
   "mimetype": "text/x-python",
   "name": "python",
   "nbconvert_exporter": "python",
   "pygments_lexer": "ipython3",
   "version": "3.9.7"
  }
 },
 "nbformat": 4,
 "nbformat_minor": 5
}
