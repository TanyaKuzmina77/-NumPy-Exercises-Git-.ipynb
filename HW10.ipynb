{
 "cells": [
  {
   "cell_type": "code",
   "execution_count": 7,
   "id": "14d3d56a",
   "metadata": {},
   "outputs": [],
   "source": [
    "import pandas as pd\n",
    "import numpy as np\n",
    "import seaborn as sns\n",
    "import scipy.stats as stats\n",
    "import matplotlib.pyplot as plt"
   ]
  },
  {
   "cell_type": "code",
   "execution_count": 8,
   "id": "de0785ca",
   "metadata": {},
   "outputs": [],
   "source": [
    "df = pd.read_csv('ad.csv')"
   ]
  },
  {
   "cell_type": "code",
   "execution_count": 5,
   "id": "63675ea2",
   "metadata": {},
   "outputs": [
    {
     "data": {
      "text/html": [
       "<div>\n",
       "<style scoped>\n",
       "    .dataframe tbody tr th:only-of-type {\n",
       "        vertical-align: middle;\n",
       "    }\n",
       "\n",
       "    .dataframe tbody tr th {\n",
       "        vertical-align: top;\n",
       "    }\n",
       "\n",
       "    .dataframe thead th {\n",
       "        text-align: right;\n",
       "    }\n",
       "</style>\n",
       "<table border=\"1\" class=\"dataframe\">\n",
       "  <thead>\n",
       "    <tr style=\"text-align: right;\">\n",
       "      <th></th>\n",
       "      <th>ad_id</th>\n",
       "      <th>action</th>\n",
       "    </tr>\n",
       "  </thead>\n",
       "  <tbody>\n",
       "    <tr>\n",
       "      <th>0</th>\n",
       "      <td>B</td>\n",
       "      <td>1</td>\n",
       "    </tr>\n",
       "    <tr>\n",
       "      <th>1</th>\n",
       "      <td>B</td>\n",
       "      <td>1</td>\n",
       "    </tr>\n",
       "    <tr>\n",
       "      <th>2</th>\n",
       "      <td>A</td>\n",
       "      <td>0</td>\n",
       "    </tr>\n",
       "    <tr>\n",
       "      <th>3</th>\n",
       "      <td>B</td>\n",
       "      <td>0</td>\n",
       "    </tr>\n",
       "    <tr>\n",
       "      <th>4</th>\n",
       "      <td>A</td>\n",
       "      <td>1</td>\n",
       "    </tr>\n",
       "  </tbody>\n",
       "</table>\n",
       "</div>"
      ],
      "text/plain": [
       "  ad_id  action\n",
       "0     B       1\n",
       "1     B       1\n",
       "2     A       0\n",
       "3     B       0\n",
       "4     A       1"
      ]
     },
     "execution_count": 5,
     "metadata": {},
     "output_type": "execute_result"
    }
   ],
   "source": [
    "df.head()"
   ]
  },
  {
   "cell_type": "markdown",
   "id": "1ca75a70",
   "metadata": {},
   "source": [
    "Выведем результат суммы кликов по группам А и В"
   ]
  },
  {
   "cell_type": "code",
   "execution_count": 9,
   "id": "63246663",
   "metadata": {},
   "outputs": [],
   "source": [
    "summary_df = df.pivot_table(values='action', index = 'ad_id', aggfunc=np.sum)"
   ]
  },
  {
   "cell_type": "code",
   "execution_count": 10,
   "id": "2ac0ca54",
   "metadata": {},
   "outputs": [
    {
     "data": {
      "text/html": [
       "<div>\n",
       "<style scoped>\n",
       "    .dataframe tbody tr th:only-of-type {\n",
       "        vertical-align: middle;\n",
       "    }\n",
       "\n",
       "    .dataframe tbody tr th {\n",
       "        vertical-align: top;\n",
       "    }\n",
       "\n",
       "    .dataframe thead th {\n",
       "        text-align: right;\n",
       "    }\n",
       "</style>\n",
       "<table border=\"1\" class=\"dataframe\">\n",
       "  <thead>\n",
       "    <tr style=\"text-align: right;\">\n",
       "      <th></th>\n",
       "      <th>action</th>\n",
       "    </tr>\n",
       "    <tr>\n",
       "      <th>ad_id</th>\n",
       "      <th></th>\n",
       "    </tr>\n",
       "  </thead>\n",
       "  <tbody>\n",
       "    <tr>\n",
       "      <th>A</th>\n",
       "      <td>304</td>\n",
       "    </tr>\n",
       "    <tr>\n",
       "      <th>B</th>\n",
       "      <td>372</td>\n",
       "    </tr>\n",
       "  </tbody>\n",
       "</table>\n",
       "</div>"
      ],
      "text/plain": [
       "       action\n",
       "ad_id        \n",
       "A         304\n",
       "B         372"
      ]
     },
     "execution_count": 10,
     "metadata": {},
     "output_type": "execute_result"
    }
   ],
   "source": [
    "summary_df"
   ]
  },
  {
   "cell_type": "markdown",
   "id": "8586f1db",
   "metadata": {},
   "source": [
    "Рассчитаем количество элементов по каждой группе и коэффициент конверсии."
   ]
  },
  {
   "cell_type": "code",
   "execution_count": 11,
   "id": "eb0ab736",
   "metadata": {},
   "outputs": [],
   "source": [
    "summary_df['total_count'] = df.pivot_table(values='action', index='ad_id', aggfunc=lambda x: len(x))\n",
    "summary_df['conversion_rate'] = df.pivot_table(values='action', index='ad_id')"
   ]
  },
  {
   "cell_type": "code",
   "execution_count": 12,
   "id": "5f2f13eb",
   "metadata": {},
   "outputs": [
    {
     "data": {
      "text/html": [
       "<div>\n",
       "<style scoped>\n",
       "    .dataframe tbody tr th:only-of-type {\n",
       "        vertical-align: middle;\n",
       "    }\n",
       "\n",
       "    .dataframe tbody tr th {\n",
       "        vertical-align: top;\n",
       "    }\n",
       "\n",
       "    .dataframe thead th {\n",
       "        text-align: right;\n",
       "    }\n",
       "</style>\n",
       "<table border=\"1\" class=\"dataframe\">\n",
       "  <thead>\n",
       "    <tr style=\"text-align: right;\">\n",
       "      <th></th>\n",
       "      <th>action</th>\n",
       "      <th>total_count</th>\n",
       "      <th>conversion_rate</th>\n",
       "    </tr>\n",
       "    <tr>\n",
       "      <th>ad_id</th>\n",
       "      <th></th>\n",
       "      <th></th>\n",
       "      <th></th>\n",
       "    </tr>\n",
       "  </thead>\n",
       "  <tbody>\n",
       "    <tr>\n",
       "      <th>A</th>\n",
       "      <td>304</td>\n",
       "      <td>1000</td>\n",
       "      <td>0.304</td>\n",
       "    </tr>\n",
       "    <tr>\n",
       "      <th>B</th>\n",
       "      <td>372</td>\n",
       "      <td>1000</td>\n",
       "      <td>0.372</td>\n",
       "    </tr>\n",
       "  </tbody>\n",
       "</table>\n",
       "</div>"
      ],
      "text/plain": [
       "       action  total_count  conversion_rate\n",
       "ad_id                                      \n",
       "A         304         1000            0.304\n",
       "B         372         1000            0.372"
      ]
     },
     "execution_count": 12,
     "metadata": {},
     "output_type": "execute_result"
    }
   ],
   "source": [
    "summary_df"
   ]
  },
  {
   "cell_type": "code",
   "execution_count": null,
   "id": "0d07b7e4",
   "metadata": {},
   "outputs": [],
   "source": [
    "Вычислим стандартное отклонение и стандартную ошибку среднего значения"
   ]
  },
  {
   "cell_type": "code",
   "execution_count": 14,
   "id": "49b01c08",
   "metadata": {},
   "outputs": [],
   "source": [
    "summary_df['std_p'] = df.pivot_table(values='action', index='ad_id', aggfunc = lambda x: np.std(x, ddof=0))\n",
    "summary_df['se_p'] = df.pivot_table(values='action', index='ad_id', aggfunc = lambda x: stats.sem(x, ddof=0))"
   ]
  },
  {
   "cell_type": "code",
   "execution_count": 15,
   "id": "c3fcab5d",
   "metadata": {},
   "outputs": [
    {
     "data": {
      "text/html": [
       "<div>\n",
       "<style scoped>\n",
       "    .dataframe tbody tr th:only-of-type {\n",
       "        vertical-align: middle;\n",
       "    }\n",
       "\n",
       "    .dataframe tbody tr th {\n",
       "        vertical-align: top;\n",
       "    }\n",
       "\n",
       "    .dataframe thead th {\n",
       "        text-align: right;\n",
       "    }\n",
       "</style>\n",
       "<table border=\"1\" class=\"dataframe\">\n",
       "  <thead>\n",
       "    <tr style=\"text-align: right;\">\n",
       "      <th></th>\n",
       "      <th>action</th>\n",
       "      <th>total_count</th>\n",
       "      <th>conversion_rate</th>\n",
       "      <th>std_p</th>\n",
       "      <th>se_p</th>\n",
       "    </tr>\n",
       "    <tr>\n",
       "      <th>ad_id</th>\n",
       "      <th></th>\n",
       "      <th></th>\n",
       "      <th></th>\n",
       "      <th></th>\n",
       "      <th></th>\n",
       "    </tr>\n",
       "  </thead>\n",
       "  <tbody>\n",
       "    <tr>\n",
       "      <th>A</th>\n",
       "      <td>304</td>\n",
       "      <td>1000</td>\n",
       "      <td>0.304</td>\n",
       "      <td>0.459983</td>\n",
       "      <td>0.014546</td>\n",
       "    </tr>\n",
       "    <tr>\n",
       "      <th>B</th>\n",
       "      <td>372</td>\n",
       "      <td>1000</td>\n",
       "      <td>0.372</td>\n",
       "      <td>0.483338</td>\n",
       "      <td>0.015285</td>\n",
       "    </tr>\n",
       "  </tbody>\n",
       "</table>\n",
       "</div>"
      ],
      "text/plain": [
       "       action  total_count  conversion_rate     std_p      se_p\n",
       "ad_id                                                          \n",
       "A         304         1000            0.304  0.459983  0.014546\n",
       "B         372         1000            0.372  0.483338  0.015285"
      ]
     },
     "execution_count": 15,
     "metadata": {},
     "output_type": "execute_result"
    }
   ],
   "source": [
    "summary_df"
   ]
  },
  {
   "cell_type": "markdown",
   "id": "5da010d4",
   "metadata": {},
   "source": [
    "Промежуточный вывод: коэффиц.конверсии рекламы В выше, чем у рекламы А."
   ]
  },
  {
   "cell_type": "code",
   "execution_count": 21,
   "id": "fab3b0b6",
   "metadata": {},
   "outputs": [
    {
     "data": {
      "text/plain": [
       "Text(0, 0.5, 'Коэффициент конверсии')"
      ]
     },
     "execution_count": 21,
     "metadata": {},
     "output_type": "execute_result"
    },
    {
     "data": {
      "image/png": "[encoded data removed]",
      "text/plain": [
       "<Figure size 432x288 with 1 Axes>"
      ]
     },
     "metadata": {
      "needs_background": "light"
     },
     "output_type": "display_data"
    }
   ],
   "source": [
    "plt.figure(figsize=(6,4))\n",
    "sns.barplot(x=df['ad_id'], y=df['action'])\n",
    "\n",
    "plt.title('Коэффициент конверсии для каждой группы')\n",
    "plt.xlabel('Группа')\n",
    "plt.ylabel('Коэффициент конверсии')"
   ]
  },
  {
   "cell_type": "markdown",
   "id": "0744d307",
   "metadata": {},
   "source": [
    "Гипотеза: Hо: коэффициент конверсии объявления А равен коэффициенту конверсии объявления В\n",
    "\n",
    "          Н1: коэффициент конверсии объявления А не равен коэффициенту конверсии объявления В\n",
    "\n",
    "          α = 0,05"
   ]
  },
  {
   "cell_type": "markdown",
   "id": "529be7f0",
   "metadata": {},
   "source": [
    "Проверим гипотезу.\n",
    "Используем критерий Z-статистики для конверсии."
   ]
  },
  {
   "cell_type": "code",
   "execution_count": 28,
   "id": "baf2bead",
   "metadata": {},
   "outputs": [],
   "source": [
    "from statsmodels.stats.proportion import proportions_ztest, proportion_confint"
   ]
  },
  {
   "cell_type": "code",
   "execution_count": 32,
   "id": "f51ca4e0",
   "metadata": {},
   "outputs": [],
   "source": [
    "group_A_results = df[df['ad_id'] == 'A']['action']\n",
    "group_B_results = df[df['ad_id'] == 'B']['action']"
   ]
  },
  {
   "cell_type": "markdown",
   "id": "f84fb0db",
   "metadata": {},
   "source": [
    "Посчитаем p-value."
   ]
  },
  {
   "cell_type": "code",
   "execution_count": 33,
   "id": "388c40c3",
   "metadata": {},
   "outputs": [
    {
     "name": "stdout",
     "output_type": "stream",
     "text": [
      "z statistic: -3.2144492244084213\n",
      "p-value: 0.0013069502732125403\n"
     ]
    }
   ],
   "source": [
    "nobs = [group_A_results.count(), group_B_results.count()]\n",
    "successes = [group_A_results.sum(), group_B_results.sum()]\n",
    "z_stat, pval = proportions_ztest(successes, nobs)\n",
    "\n",
    "print('z statistic:', z_stat)\n",
    "print('p-value:', pval)"
   ]
  },
  {
   "cell_type": "code",
   "execution_count": 34,
   "id": "1d4a4f5f",
   "metadata": {},
   "outputs": [
    {
     "name": "stdout",
     "output_type": "stream",
     "text": [
      "True\n"
     ]
    }
   ],
   "source": [
    "alpha = 0.05\n",
    "print(pval < alpha)"
   ]
  },
  {
   "cell_type": "markdown",
   "id": "cb6077f6",
   "metadata": {},
   "source": [
    "Вывод: т.к. p-value меньше порога ошибки первого рода, отклоняем нулевую гипотезу, результат эксперимента можно считать статзначимым."
   ]
  }
 ],
 "metadata": {
  "kernelspec": {
   "display_name": "Python 3 (ipykernel)",
   "language": "python",
   "name": "python3"
  },
  "language_info": {
   "codemirror_mode": {
    "name": "ipython",
    "version": 3
   },
   "file_extension": ".py",
   "mimetype": "text/x-python",
   "name": "python",
   "nbconvert_exporter": "python",
   "pygments_lexer": "ipython3",
   "version": "3.9.7"
  }
 },
 "nbformat": 4,
 "nbformat_minor": 5
}
